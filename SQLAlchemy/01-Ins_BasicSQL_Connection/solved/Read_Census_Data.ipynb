{
 "cells": [
  {
   "cell_type": "code",
   "execution_count": 1,
   "metadata": {},
   "outputs": [],
   "source": [
    "# Import the dependencies.\n",
    "from pathlib import Path\n",
    "from sqlalchemy import create_engine, text\n",
    "\n",
    "# Create a reference to the file.\n",
    "database_path = Path(\"../Resources/Census_Data.sqlite\")"
   ]
  },
  {
   "cell_type": "code",
   "execution_count": 2,
   "metadata": {},
   "outputs": [],
   "source": [
    "# Create a connection that can talk to the database\n",
    "conn = create_engine(f\"sqlite:///{database_path}\").connect()\n"
   ]
  },
  {
   "cell_type": "code",
   "execution_count": 3,
   "metadata": {},
   "outputs": [
    {
     "name": "stdout",
     "output_type": "stream",
     "text": [
      "('HOUSTON, TX', 'HOUSTON', 'TX', 3061887, 1775897, 684416, 11586, 230549, 1368287, 54180, 387082, 62520, 100014, 349920, 138882, 42491, 27737, 633609, 1593803, 122895, 67484, 22637, 33.43958333, 32.55, 34.36354167, 56206.5, 32239.52083, 956.7083333, 178233.6842, 29.77573444, -95.41454828)\n",
      "('CHICAGO, IL', 'CHICAGO', 'IL', 2702091, 1318869, 843633, 7554, 161478, 785374, 32800, 370569, 50202, 100972, 385664, 178511, 54636, 26956, 588639, 1439118, 173087, 45864, 18209, 34.52678571, 33.79821429, 35.14107143, 57735.96429, 38730.83929, 1119.928571, 264739.2857, 41.86783754, -87.67343993)\n",
      "('BROOKLYN, NY', 'BROOKLYN', 'NY', 2595259, 1126111, 870465, 8744, 297890, 509243, 48934, 389177, 65899, 107313, 348413, 164826, 39328, 17446, 597404, 1297832, 129667, 33644, 14845, 35.17567568, 33.36756757, 36.57837838, 51469.18919, 28309.67568, 1261.783784, 605743.2432, 40.65280511, -73.9565277)\n",
      "('LOS ANGELES, CA', 'LOS ANGELES', 'CA', 2426413, 1068202, 324842, 15949, 273829, 1292382, 62684, 280325, 22924, 83153, 312270, 104024, 40600, 19436, 626981, 1273305, 141105, 26989, 12329, 35.33548387, 34.53548387, 36.06129032, 47494.58333, 30073.19355, 1201.766667, 557115.0, 34.04220912, -118.3034679)\n",
      "('MIAMI, FL', 'MIAMI', 'FL', 1820704, 1361009, 363514, 2250, 33144, 1162711, 27137, 322521, 30827, 113990, 231241, 79888, 36586, 15913, 338765, 935326, 91584, 20714, 6969, 38.74074074, 37.12037037, 40.26296296, 51232.90741, 25949.35185, 1260.833333, 243279.6296, 25.7602677, -80.2985105)\n",
      "('SAN ANTONIO, TX', 'SAN ANTONIO', 'TX', 1691381, 1322190, 121664, 11185, 44444, 1023451, 21499, 218399, 50761, 79214, 180689, 71468, 19010, 10617, 299194, 838155, 62818, 26669, 9300, 34.19, 33.18333333, 35.34745763, 54895.83051, 25640.81667, 958.8983051, 153575.4386, 29.47122467, -98.51320472)\n",
      "('NEW YORK, NY', 'NEW YORK', 'NY', 1620104, 916945, 242764, 6142, 189863, 413498, 24301, 128189, 25223, 45778, 386900, 217203, 88996, 41934, 280779, 951835, 70966, 33887, 19499, 36.49777778, 36.26, 36.49333333, 94798.62222, 76624.95556, 1920.266667, 850072.7727, 40.76203661, -73.97592351)\n",
      "('PHILADELPHIA, PA', 'PHILADELPHIA', 'PA', 1555247, 648207, 664911, 5326, 106753, 207721, 20729, 303526, 42870, 55080, 152776, 70734, 23236, 13535, 399352, 744530, 103526, 18801, 10975, 34.73191489, 33.4212766, 36.07446809, 44288.3913, 27674.70213, 996.2826087, 181040.4255, 39.99650996, -75.14803131)\n",
      "('LAS VEGAS, NV', 'LAS VEGAS', 'NV', 1472489, 912231, 157421, 9915, 151652, 469159, 18371, 248327, 36891, 74199, 148480, 48178, 15150, 7233, 244270, 765963, 84057, 14068, 4604, 37.41666667, 37.07142857, 37.73095238, 55166.19048, 28074.09524, 1083.0, 179661.9048, 36.13927558, -115.224931)\n",
      "('BRONX, NY', 'BRONX', 'NY', 1430052, 301634, 472535, 7980, 52364, 784866, 33258, 203518, 41710, 61872, 111464, 44378, 9002, 6036, 430381, 660360, 92174, 7844, 3387, 34.516, 32.26, 36.496, 39554.88, 20247.2, 1082.76, 340872.0, 40.84879076, -73.87819964)\n"
     ]
    }
   ],
   "source": [
    "# Query All Records in the the Database\n",
    "query = text(\"SELECT * FROM Census_Data LIMIT 10\")\n",
    "data = conn.execute(query)\n",
    "\n",
    "for record in data:\n",
    "    print(record)\n"
   ]
  },
  {
   "cell_type": "code",
   "execution_count": 4,
   "metadata": {},
   "outputs": [],
   "source": [
    "# Close the connection\n",
    "conn.close()"
   ]
  }
 ],
 "metadata": {
  "anaconda-cloud": {},
  "kernelspec": {
   "display_name": "Python 3 (ipykernel)",
   "language": "python",
   "name": "python3"
  },
  "language_info": {
   "codemirror_mode": {
    "name": "ipython",
    "version": 3
   },
   "file_extension": ".py",
   "mimetype": "text/x-python",
   "name": "python",
   "nbconvert_exporter": "python",
   "pygments_lexer": "ipython3",
   "version": "3.12.3"
  },
  "varInspector": {
   "cols": {
    "lenName": 16,
    "lenType": 16,
    "lenVar": 40
   },
   "kernels_config": {
    "python": {
     "delete_cmd_postfix": "",
     "delete_cmd_prefix": "del ",
     "library": "var_list.py",
     "varRefreshCmd": "print(var_dic_list())"
    },
    "r": {
     "delete_cmd_postfix": ") ",
     "delete_cmd_prefix": "rm(",
     "library": "var_list.r",
     "varRefreshCmd": "cat(var_dic_list()) "
    }
   },
   "types_to_exclude": [
    "module",
    "function",
    "builtin_function_or_method",
    "instance",
    "_Feature"
   ],
   "window_display": false
  }
 },
 "nbformat": 4,
 "nbformat_minor": 1
}
